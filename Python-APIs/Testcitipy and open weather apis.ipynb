{
 "cells": [
  {
   "cell_type": "code",
   "execution_count": 2,
   "metadata": {},
   "outputs": [
    {
     "name": "stdout",
     "output_type": "stream",
     "text": [
      "takoradi\n",
      "gh\n"
     ]
    }
   ],
   "source": [
    "from citipy import citipy\n",
    "import random\n",
    "citydict=dict()\n",
    "city = citipy.nearest_city(0, 0)\n",
    "city\n",
    "\n",
    "print(city.city_name)     # Tainan, my home town\n",
    "\n",
    "print(city.country_code)\n",
    "# And the country is surely Taiwan"
   ]
  },
  {
   "cell_type": "code",
   "execution_count": 5,
   "metadata": {},
   "outputs": [
    {
     "name": "stdout",
     "output_type": "stream",
     "text": [
      "[-180, -178, -176, -174, -172, -170, -168, -166, -164, -162, -160, -158, -156, -154, -152, -150, -148, -146, -144, -142, -140, -138, -136, -134, -132, -130, -128, -126, -124, -122, -120, -118, -116, -114, -112, -110, -108, -106, -104, -102, -100, -98, -96, -94, -92, -90, -88, -86, -84, -82, -80, -78, -76, -74, -72, -70, -68, -66, -64, -62, -60, -58, -56, -54, -52, -50, -48, -46, -44, -42, -40, -38, -36, -34, -32, -30, -28, -26, -24, -22, -20, -18, -16, -14, -12, -10, -8, -6, -4, -2, 0, 2, 4, 6, 8, 10, 12, 14, 16, 18, 20, 22, 24, 26, 28, 30, 32, 34, 36, 38, 40, 42, 44, 46, 48, 50, 52, 54, 56, 58, 60, 62, 64, 66, 68, 70, 72, 74, 76, 78, 80, 82, 84, 86, 88, 90, 92, 94, 96, 98, 100, 102, 104, 106, 108, 110, 112, 114, 116, 118, 120, 122, 124, 126, 128, 130, 132, 134, 136, 138, 140, 142, 144, 146, 148, 150, 152, 154, 156, 158, 160, 162, 164, 166, 168, 170, 172, 174, 176, 178, 180]\n"
     ]
    }
   ],
   "source": []
  },
  {
   "cell_type": "code",
   "execution_count": 9,
   "metadata": {},
   "outputs": [
    {
     "name": "stdout",
     "output_type": "stream",
     "text": [
      "-140\n",
      "-140\n",
      "-40\n",
      "60\n",
      "60\n",
      "-180\n",
      "-140\n",
      "140\n",
      "20\n",
      "0\n",
      "-140\n",
      "100\n",
      "-160\n",
      "140\n",
      "0\n",
      "180\n",
      "140\n",
      "-140\n",
      "-160\n",
      "-80\n",
      "60\n",
      "20\n",
      "-180\n",
      "-160\n",
      "0\n",
      "-80\n",
      "0\n",
      "100\n",
      "60\n",
      "20\n",
      "60\n",
      "20\n",
      "-160\n",
      "20\n",
      "-180\n",
      "-40\n",
      "140\n",
      "0\n",
      "-160\n",
      "60\n",
      "-80\n",
      "0\n",
      "-120\n",
      "0\n",
      "60\n",
      "-160\n",
      "140\n",
      "-160\n",
      "140\n",
      "-140\n",
      "-40\n"
     ]
    }
   ],
   "source": [
    "print(long)\n",
    "for j in range(0,50,1):\n",
    "    long=random.choice(longlist)\n",
    "    print(long)"
   ]
  },
  {
   "cell_type": "code",
   "execution_count": null,
   "metadata": {},
   "outputs": [],
   "source": [
    "longlist=[-180,-160,-140,-120,-80,-40,0,20,60,100,140,180]\n",
    "for j in range(0,6,1):\n",
    "    long=random.choice(longlist)\n",
    "    print(long)"
   ]
  }
 ],
 "metadata": {
  "kernelspec": {
   "display_name": "Python 3",
   "language": "python",
   "name": "python3"
  },
  "language_info": {
   "codemirror_mode": {
    "name": "ipython",
    "version": 3
   },
   "file_extension": ".py",
   "mimetype": "text/x-python",
   "name": "python",
   "nbconvert_exporter": "python",
   "pygments_lexer": "ipython3",
   "version": "3.6.4"
  }
 },
 "nbformat": 4,
 "nbformat_minor": 2
}
