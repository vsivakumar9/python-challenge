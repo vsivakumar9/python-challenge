{
 "cells": [
  {
   "cell_type": "code",
   "execution_count": 2,
   "metadata": {},
   "outputs": [
    {
     "name": "stdout",
     "output_type": "stream",
     "text": [
      "takoradi\n",
      "gh\n"
     ]
    }
   ],
   "source": [
    "from citipy import citipy\n",
    "import random\n",
    "citydict=dict()\n",
    "city = citipy.nearest_city(0, 0)\n",
    "city\n",
    "\n",
    "print(city.city_name)     # Tainan, my home town\n",
    "\n",
    "print(city.country_code)\n",
    "# And the country is surely Taiwan"
   ]
  },
  {
   "cell_type": "code",
   "execution_count": 12,
   "metadata": {},
   "outputs": [
    {
     "data": {
      "text/plain": [
       "1"
      ]
     },
     "execution_count": 12,
     "metadata": {},
     "output_type": "execute_result"
    }
   ],
   "source": [
    "cntcity = 21\n",
    "rem = cntcity % 10\n",
    "rem"
   ]
  },
  {
   "cell_type": "code",
   "execution_count": 9,
   "metadata": {},
   "outputs": [
    {
     "name": "stdout",
     "output_type": "stream",
     "text": [
      "-140\n",
      "-140\n",
      "-40\n",
      "60\n",
      "60\n",
      "-180\n",
      "-140\n",
      "140\n",
      "20\n",
      "0\n",
      "-140\n",
      "100\n",
      "-160\n",
      "140\n",
      "0\n",
      "180\n",
      "140\n",
      "-140\n",
      "-160\n",
      "-80\n",
      "60\n",
      "20\n",
      "-180\n",
      "-160\n",
      "0\n",
      "-80\n",
      "0\n",
      "100\n",
      "60\n",
      "20\n",
      "60\n",
      "20\n",
      "-160\n",
      "20\n",
      "-180\n",
      "-40\n",
      "140\n",
      "0\n",
      "-160\n",
      "60\n",
      "-80\n",
      "0\n",
      "-120\n",
      "0\n",
      "60\n",
      "-160\n",
      "140\n",
      "-160\n",
      "140\n",
      "-140\n",
      "-40\n"
     ]
    }
   ],
   "source": [
    "print(long)\n",
    "for j in range(0,50,1):\n",
    "    long=random.choice(longlist)\n",
    "    print(long)"
   ]
  },
  {
   "cell_type": "code",
   "execution_count": null,
   "metadata": {},
   "outputs": [],
   "source": [
    "longlist=[-180,-160,-140,-120,-80,-40,0,20,60,100,140,180]\n",
    "for j in range(0,6,1):\n",
    "    long=random.choice(longlist)\n",
    "    print(long)"
   ]
  }
 ],
 "metadata": {
  "kernelspec": {
   "display_name": "Python 3",
   "language": "python",
   "name": "python3"
  },
  "language_info": {
   "codemirror_mode": {
    "name": "ipython",
    "version": 3
   },
   "file_extension": ".py",
   "mimetype": "text/x-python",
   "name": "python",
   "nbconvert_exporter": "python",
   "pygments_lexer": "ipython3",
   "version": "3.6.4"
  }
 },
 "nbformat": 4,
 "nbformat_minor": 2
}
