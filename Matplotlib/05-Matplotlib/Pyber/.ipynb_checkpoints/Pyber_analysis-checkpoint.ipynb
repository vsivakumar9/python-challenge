{
 "cells": [
  {
   "cell_type": "code",
   "execution_count": 1,
   "metadata": {
    "collapsed": true
   },
   "outputs": [],
   "source": [
    "# Import relevant libraries\n",
    "#%matplotlib notebook\n",
    "import pandas as pd\n",
    "import numpy as np\n",
    "import seaborn as sns\n",
    "import matplotlib.pyplot as plt\n"
   ]
  },
  {
   "cell_type": "code",
   "execution_count": 2,
   "metadata": {},
   "outputs": [
    {
     "name": "stdout",
     "output_type": "stream",
     "text": [
      "                 city                 date   fare        ride_id\n",
      "0  Lake Jonathanshire  2018-01-14 10:14:22  13.83  5739410935873\n",
      "1  South Michelleport  2018-03-04 18:24:09  30.24  2343912425577\n",
      "2  Port Samanthamouth  2018-02-24 04:29:00  33.44  2005065760003\n",
      "           city  driver_count   type\n",
      "0   Richardfort            38  Urban\n",
      "1  Williamsstad            59  Urban\n",
      "2   Port Angela            67  Urban\n"
     ]
    }
   ],
   "source": [
    "#Read the ride_data and city_data csv files into pandas dataframes. \n",
    "ride_df = pd.read_csv(\"raw_data/ride_data.csv\")\n",
    "city_df = pd.read_csv(\"raw_data/city_data.csv\")\n",
    "print(ride_df.head(3))\n",
    "print(city_df.head(3))\n",
    "#ride_city_df.dtypes"
   ]
  },
  {
   "cell_type": "code",
   "execution_count": 3,
   "metadata": {},
   "outputs": [
    {
     "data": {
      "text/html": [
       "<div>\n",
       "<style>\n",
       "    .dataframe thead tr:only-child th {\n",
       "        text-align: right;\n",
       "    }\n",
       "\n",
       "    .dataframe thead th {\n",
       "        text-align: left;\n",
       "    }\n",
       "\n",
       "    .dataframe tbody tr th {\n",
       "        vertical-align: top;\n",
       "    }\n",
       "</style>\n",
       "<table border=\"1\" class=\"dataframe\">\n",
       "  <thead>\n",
       "    <tr style=\"text-align: right;\">\n",
       "      <th></th>\n",
       "      <th>city</th>\n",
       "      <th>date</th>\n",
       "      <th>fare</th>\n",
       "      <th>ride_id</th>\n",
       "      <th>driver_count</th>\n",
       "      <th>type</th>\n",
       "    </tr>\n",
       "  </thead>\n",
       "  <tbody>\n",
       "    <tr>\n",
       "      <th>0</th>\n",
       "      <td>Lake Jonathanshire</td>\n",
       "      <td>2018-01-14 10:14:22</td>\n",
       "      <td>13.83</td>\n",
       "      <td>5739410935873</td>\n",
       "      <td>5</td>\n",
       "      <td>Urban</td>\n",
       "    </tr>\n",
       "    <tr>\n",
       "      <th>1</th>\n",
       "      <td>Lake Jonathanshire</td>\n",
       "      <td>2018-04-07 20:51:11</td>\n",
       "      <td>31.25</td>\n",
       "      <td>4441251834598</td>\n",
       "      <td>5</td>\n",
       "      <td>Urban</td>\n",
       "    </tr>\n",
       "    <tr>\n",
       "      <th>2</th>\n",
       "      <td>Lake Jonathanshire</td>\n",
       "      <td>2018-03-09 23:45:55</td>\n",
       "      <td>19.89</td>\n",
       "      <td>2389495660448</td>\n",
       "      <td>5</td>\n",
       "      <td>Urban</td>\n",
       "    </tr>\n",
       "    <tr>\n",
       "      <th>3</th>\n",
       "      <td>Lake Jonathanshire</td>\n",
       "      <td>2018-04-07 18:09:21</td>\n",
       "      <td>24.28</td>\n",
       "      <td>7796805191168</td>\n",
       "      <td>5</td>\n",
       "      <td>Urban</td>\n",
       "    </tr>\n",
       "    <tr>\n",
       "      <th>4</th>\n",
       "      <td>Lake Jonathanshire</td>\n",
       "      <td>2018-01-02 14:14:50</td>\n",
       "      <td>13.89</td>\n",
       "      <td>424254840012</td>\n",
       "      <td>5</td>\n",
       "      <td>Urban</td>\n",
       "    </tr>\n",
       "    <tr>\n",
       "      <th>5</th>\n",
       "      <td>Lake Jonathanshire</td>\n",
       "      <td>2018-04-06 11:30:32</td>\n",
       "      <td>16.84</td>\n",
       "      <td>6164453571846</td>\n",
       "      <td>5</td>\n",
       "      <td>Urban</td>\n",
       "    </tr>\n",
       "    <tr>\n",
       "      <th>6</th>\n",
       "      <td>Lake Jonathanshire</td>\n",
       "      <td>2018-03-21 00:18:34</td>\n",
       "      <td>37.95</td>\n",
       "      <td>8353656732934</td>\n",
       "      <td>5</td>\n",
       "      <td>Urban</td>\n",
       "    </tr>\n",
       "    <tr>\n",
       "      <th>7</th>\n",
       "      <td>Lake Jonathanshire</td>\n",
       "      <td>2018-01-28 00:07:00</td>\n",
       "      <td>5.67</td>\n",
       "      <td>9756573174778</td>\n",
       "      <td>5</td>\n",
       "      <td>Urban</td>\n",
       "    </tr>\n",
       "    <tr>\n",
       "      <th>8</th>\n",
       "      <td>Lake Jonathanshire</td>\n",
       "      <td>2018-01-24 12:24:22</td>\n",
       "      <td>34.65</td>\n",
       "      <td>3319117904437</td>\n",
       "      <td>5</td>\n",
       "      <td>Urban</td>\n",
       "    </tr>\n",
       "    <tr>\n",
       "      <th>9</th>\n",
       "      <td>Lake Jonathanshire</td>\n",
       "      <td>2018-03-24 16:27:49</td>\n",
       "      <td>14.94</td>\n",
       "      <td>1670908453476</td>\n",
       "      <td>5</td>\n",
       "      <td>Urban</td>\n",
       "    </tr>\n",
       "  </tbody>\n",
       "</table>\n",
       "</div>"
      ],
      "text/plain": [
       "                 city                 date   fare        ride_id  \\\n",
       "0  Lake Jonathanshire  2018-01-14 10:14:22  13.83  5739410935873   \n",
       "1  Lake Jonathanshire  2018-04-07 20:51:11  31.25  4441251834598   \n",
       "2  Lake Jonathanshire  2018-03-09 23:45:55  19.89  2389495660448   \n",
       "3  Lake Jonathanshire  2018-04-07 18:09:21  24.28  7796805191168   \n",
       "4  Lake Jonathanshire  2018-01-02 14:14:50  13.89   424254840012   \n",
       "5  Lake Jonathanshire  2018-04-06 11:30:32  16.84  6164453571846   \n",
       "6  Lake Jonathanshire  2018-03-21 00:18:34  37.95  8353656732934   \n",
       "7  Lake Jonathanshire  2018-01-28 00:07:00   5.67  9756573174778   \n",
       "8  Lake Jonathanshire  2018-01-24 12:24:22  34.65  3319117904437   \n",
       "9  Lake Jonathanshire  2018-03-24 16:27:49  14.94  1670908453476   \n",
       "\n",
       "   driver_count   type  \n",
       "0             5  Urban  \n",
       "1             5  Urban  \n",
       "2             5  Urban  \n",
       "3             5  Urban  \n",
       "4             5  Urban  \n",
       "5             5  Urban  \n",
       "6             5  Urban  \n",
       "7             5  Urban  \n",
       "8             5  Urban  \n",
       "9             5  Urban  "
      ]
     },
     "execution_count": 3,
     "metadata": {},
     "output_type": "execute_result"
    }
   ],
   "source": [
    "#Merge the two dataframes on city.\n",
    "ride_city_df = pd.merge(ride_df,city_df,on=\"city\")\n",
    "ride_city_df.head(10)\n"
   ]
  },
  {
   "cell_type": "code",
   "execution_count": 4,
   "metadata": {},
   "outputs": [
    {
     "data": {
      "text/plain": [
       "city\n",
       "Amandaburgh      18\n",
       "Barajasview      22\n",
       "Barronchester    16\n",
       "Bethanyland      18\n",
       "Bradshawfurt     10\n",
       "Name: ride_id, dtype: int64"
      ]
     },
     "execution_count": 4,
     "metadata": {},
     "output_type": "execute_result"
    }
   ],
   "source": [
    "#Count of rides per city\n",
    "ride_city_df_group = ride_city_df.groupby(\"city\")\n",
    "ride_city_df_ridecnt = ride_city_df_group[\"ride_id\"].count()\n",
    "ride_city_df_ridecnt.head(5)\n"
   ]
  },
  {
   "cell_type": "code",
   "execution_count": 5,
   "metadata": {},
   "outputs": [
    {
     "data": {
      "text/plain": [
       "city\n",
       "Amandaburgh        18\n",
       "Barajasview        22\n",
       "Barronchester      16\n",
       "Bethanyland        18\n",
       "Bradshawfurt       10\n",
       "Brandonfort        19\n",
       "Carriemouth        27\n",
       "Christopherfurt    27\n",
       "Colemanland        22\n",
       "Davidfurt          17\n",
       "Name: ride_id, dtype: int64"
      ]
     },
     "execution_count": 5,
     "metadata": {},
     "output_type": "execute_result"
    }
   ],
   "source": [
    "#number of rides per city \n",
    "ride_df_groupbycity = ride_df.groupby(\"city\")\n",
    "ride_df_ride_cnt = ride_df_groupbycity[\"ride_id\"].count()\n",
    "ride_df_ride_cnt.head(10)"
   ]
  },
  {
   "cell_type": "code",
   "execution_count": 6,
   "metadata": {},
   "outputs": [
    {
     "data": {
      "text/plain": [
       "city\n",
       "Amandaburgh        24.641667\n",
       "Barajasview        25.332273\n",
       "Barronchester      36.422500\n",
       "Bethanyland        32.956111\n",
       "Bradshawfurt       40.064000\n",
       "Brandonfort        35.437368\n",
       "Carriemouth        28.314444\n",
       "Christopherfurt    24.501852\n",
       "Colemanland        30.894545\n",
       "Davidfurt          31.995882\n",
       "Name: fare, dtype: float64"
      ]
     },
     "execution_count": 6,
     "metadata": {},
     "output_type": "execute_result"
    }
   ],
   "source": [
    "#average fare per city\n",
    "ride_df_averagefare = ride_df_groupbycity[\"fare\"].mean()\n",
    "ride_df_averagefare.head(10)\n"
   ]
  },
  {
   "cell_type": "code",
   "execution_count": 7,
   "metadata": {},
   "outputs": [
    {
     "data": {
      "text/plain": [
       "city\n",
       "Amandaburgh      12\n",
       "Barajasview      26\n",
       "Barronchester    11\n",
       "Bethanyland      22\n",
       "Bradshawfurt      7\n",
       "Name: driver_count, dtype: int64"
      ]
     },
     "execution_count": 7,
     "metadata": {},
     "output_type": "execute_result"
    }
   ],
   "source": [
    "# Number of drivers per city\n",
    "city_df_groupbycity = city_df.groupby(\"city\")\n",
    "city_df_drivercnt = city_df_groupbycity[\"driver_count\"].sum()\n",
    "city_df_drivercnt.head(5)"
   ]
  },
  {
   "cell_type": "code",
   "execution_count": 8,
   "metadata": {},
   "outputs": [
    {
     "data": {
      "text/html": [
       "<div>\n",
       "<style>\n",
       "    .dataframe thead tr:only-child th {\n",
       "        text-align: right;\n",
       "    }\n",
       "\n",
       "    .dataframe thead th {\n",
       "        text-align: left;\n",
       "    }\n",
       "\n",
       "    .dataframe tbody tr th {\n",
       "        vertical-align: top;\n",
       "    }\n",
       "</style>\n",
       "<table border=\"1\" class=\"dataframe\">\n",
       "  <thead>\n",
       "    <tr style=\"text-align: right;\">\n",
       "      <th></th>\n",
       "      <th>type</th>\n",
       "    </tr>\n",
       "    <tr>\n",
       "      <th>city</th>\n",
       "      <th></th>\n",
       "    </tr>\n",
       "  </thead>\n",
       "  <tbody>\n",
       "    <tr>\n",
       "      <th>Richardfort</th>\n",
       "      <td>Urban</td>\n",
       "    </tr>\n",
       "    <tr>\n",
       "      <th>Williamsstad</th>\n",
       "      <td>Urban</td>\n",
       "    </tr>\n",
       "    <tr>\n",
       "      <th>Port Angela</th>\n",
       "      <td>Urban</td>\n",
       "    </tr>\n",
       "    <tr>\n",
       "      <th>Rodneyfort</th>\n",
       "      <td>Urban</td>\n",
       "    </tr>\n",
       "    <tr>\n",
       "      <th>West Robert</th>\n",
       "      <td>Urban</td>\n",
       "    </tr>\n",
       "  </tbody>\n",
       "</table>\n",
       "</div>"
      ],
      "text/plain": [
       "               type\n",
       "city               \n",
       "Richardfort   Urban\n",
       "Williamsstad  Urban\n",
       "Port Angela   Urban\n",
       "Rodneyfort    Urban\n",
       "West Robert   Urban"
      ]
     },
     "execution_count": 8,
     "metadata": {},
     "output_type": "execute_result"
    }
   ],
   "source": [
    "city_df_type = city_df[[\"city\",\"type\"]]\n",
    "\n",
    "city_df_type = city_df_type.set_index(\"city\")\n",
    "city_df_type.head()"
   ]
  },
  {
   "cell_type": "code",
   "execution_count": 9,
   "metadata": {},
   "outputs": [
    {
     "data": {
      "text/plain": [
       "Urban       66\n",
       "Suburban    36\n",
       "Rural       18\n",
       "Name: type, dtype: int64"
      ]
     },
     "execution_count": 9,
     "metadata": {},
     "output_type": "execute_result"
    }
   ],
   "source": [
    "city_df_type[\"type\"].value_counts()"
   ]
  },
  {
   "cell_type": "code",
   "execution_count": 10,
   "metadata": {},
   "outputs": [
    {
     "data": {
      "image/png": "[encoded data removed]",
      "text/plain": [
       "<matplotlib.figure.Figure at 0x1e3f4747588>"
      ]
     },
     "metadata": {},
     "output_type": "display_data"
    }
   ],
   "source": [
    "#plot the values determined above as a bubble chart.\n",
    "plt.scatter(ride_city_df_ridecnt,ride_df_averagefare,s=city_df_drivercnt,alpha=0.7,\n",
    "            marker='o',facecolors=[\"gold\",\"Lightskyblue\",\"Lightcoral\"],edgecolors=[\"black\"])\n",
    "            \n",
    "##plt.scatter(ride_city_df_ridecnt,ride_df_averagefare,marker='o',facecolors=[\"gold\",\"Lightskyblue\",\"Lightcoral\"],\n",
    "##            s=city_df_drivercnt,alpha=0.5)\n",
    "#plt.scatter(x_axis, data, marker=\"o\", facecolors=\"red\", edgecolors=\"black\",s=x_axis, alpha=0.75)\n",
    "plt.xlim(0,40)\n",
    "plt.ylim(15,45)\n",
    "#plt.tight_layout()\n",
    "plt.title(\"Pyber ride sharing data(2016)\")\n",
    "plt.xlabel(\"Total number of rides(per city)\")\n",
    "plt.ylabel(\"Average fare ($)\")\n",
    "plt.legend(loc='upper right')\n",
    "#plt.hlines(0, 0, 10, alpha=0.25)   \n",
    "#Wedge percentages\n",
    "#Wedge labels\n",
    "plt.show()"
   ]
  },
  {
   "cell_type": "code",
   "execution_count": 11,
   "metadata": {},
   "outputs": [
    {
     "data": {
      "text/plain": [
       "type\n",
       "Rural        4327.93\n",
       "Suburban    19356.33\n",
       "Urban       39854.38\n",
       "Name: fare, dtype: float64"
      ]
     },
     "execution_count": 11,
     "metadata": {},
     "output_type": "execute_result"
    }
   ],
   "source": [
    "#Determine  % of total fares by city type\n",
    "ride_city_df2 = ride_city_df\n",
    "ride_city_df2_totalsbytype = ride_city_df2.groupby(\"type\")[\"fare\"].sum()\n",
    "ride_city_df2_totalsbytype\n",
    "#total_alltypes = ride_city_df2_totalsbytype.sum()\n",
    "#total_alltypes \n",
    "#ride_city_typepercent = (ride_city_df2_totalsbytype / total_alltypes) * 100\n",
    "#ride_city_typepercent"
   ]
  },
  {
   "cell_type": "code",
   "execution_count": 28,
   "metadata": {},
   "outputs": [
    {
     "data": {
      "image/png": "[encoded data removed]",
      "text/plain": [
       "<matplotlib.figure.Figure at 0x1e3f4d95978>"
      ]
     },
     "metadata": {},
     "output_type": "display_data"
    }
   ],
   "source": [
    "#Create and show  pie chart for Total fares by city type.\n",
    "explode = (0, 0, 0.1)\n",
    "labels=(\"Rural\",\"Suburban\",\"Urban\")\n",
    "colors=(\"Gold\",\"Lightskyblue\",\"Coral\")\n",
    "plt.pie(ride_city_df2_totalsbytype, explode=explode, labels=labels, colors=colors,\n",
    "        autopct=\"%1.2f%%\", shadow=True, startangle=140)\n",
    "plt.title(\"% Total Fares by City type\")\n",
    "plt.show()"
   ]
  },
  {
   "cell_type": "code",
   "execution_count": 17,
   "metadata": {},
   "outputs": [
    {
     "data": {
      "text/plain": [
       "type\n",
       "Rural        125\n",
       "Suburban     625\n",
       "Urban       1625\n",
       "Name: ride_id, dtype: int64"
      ]
     },
     "execution_count": 17,
     "metadata": {},
     "output_type": "execute_result"
    }
   ],
   "source": [
    "#Determine Total rides by city type.\n",
    "ride_city_df3 = ride_city_df\n",
    "ride_city_df2_totalridesbytype = ride_city_df2.groupby(\"type\")[\"ride_id\"].count()\n",
    "ride_city_df2_totalridesbytype"
   ]
  },
  {
   "cell_type": "code",
   "execution_count": 27,
   "metadata": {},
   "outputs": [
    {
     "data": {
      "image/png": "[encoded data removed]",
      "text/plain": [
       "<matplotlib.figure.Figure at 0x1e3f4d954e0>"
      ]
     },
     "metadata": {},
     "output_type": "display_data"
    }
   ],
   "source": [
    "#Create and show  pie chart for Total rides by city type.\n",
    "explode = (0, 0, 0.1)\n",
    "labels=(\"Rural\",\"Suburban\",\"Urban\")\n",
    "colors=(\"Gold\",\"Lightskyblue\",\"Coral\")\n",
    "plt.pie(ride_city_df2_totalridesbytype, explode=explode, labels=labels, colors=colors,\n",
    "        autopct=\"%1.2f%%\", shadow=True, startangle=140)\n",
    "plt.title(\"% Total Rides by City type\")\n",
    "plt.tight_layout()\n",
    "plt.show()"
   ]
  },
  {
   "cell_type": "code",
   "execution_count": 23,
   "metadata": {},
   "outputs": [
    {
     "data": {
      "text/plain": [
       "type\n",
       "Rural         78\n",
       "Suburban     490\n",
       "Urban       2405\n",
       "Name: driver_count, dtype: int64"
      ]
     },
     "execution_count": 23,
     "metadata": {},
     "output_type": "execute_result"
    }
   ],
   "source": [
    "#Determine Drivers rides by city type.\n",
    "city_df2 = city_df\n",
    "city_df2_drivercntbytype = city_df2.groupby(\"type\")[\"driver_count\"].sum()\n",
    "city_df2_drivercntbytype "
   ]
  },
  {
   "cell_type": "code",
   "execution_count": 26,
   "metadata": {},
   "outputs": [
    {
     "data": {
      "image/png": "[encoded data removed]",
      "text/plain": [
       "<matplotlib.figure.Figure at 0x1e3f4d457f0>"
      ]
     },
     "metadata": {},
     "output_type": "display_data"
    }
   ],
   "source": [
    "#Create and show  pie chart for Total rides by city type.\n",
    "explode = (0, 0, 0.1)\n",
    "labels=(\"Rural\",\"Suburban\",\"Urban\")\n",
    "colors=(\"Gold\",\"Lightskyblue\",\"Coral\")\n",
    "plt.pie(city_df2_drivercntbytype, explode=explode, labels=labels, colors=colors,\n",
    "        autopct=\"%1.2f%%\", shadow=True, startangle=140)\n",
    "plt.title(\"% Total Drivers by City type\")\n",
    "plt.tight_layout()\n",
    "plt.show()"
   ]
  },
  {
   "cell_type": "code",
   "execution_count": null,
   "metadata": {
    "collapsed": true
   },
   "outputs": [],
   "source": []
  }
 ],
 "metadata": {
  "kernelspec": {
   "display_name": "Python 3",
   "language": "python",
   "name": "python3"
  },
  "language_info": {
   "codemirror_mode": {
    "name": "ipython",
    "version": 3
   },
   "file_extension": ".py",
   "mimetype": "text/x-python",
   "name": "python",
   "nbconvert_exporter": "python",
   "pygments_lexer": "ipython3",
   "version": "3.6.3"
  }
 },
 "nbformat": 4,
 "nbformat_minor": 2
}
