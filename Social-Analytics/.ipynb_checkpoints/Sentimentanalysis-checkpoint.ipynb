{
 "cells": [
  {
   "cell_type": "markdown",
   "metadata": {},
   "source": [
    "# Heading 1 Sentiment Analysis "
   ]
  },
  {
   "cell_type": "markdown",
   "metadata": {},
   "source": [
    "The tweets from CBS had a high positive polarity(0.35) for the 100 tweets that were analyzed using VADER on 6/27. Tweets fromm FOX has  a positive polarity(0.25)\n",
    "NY times seems to have a negative average compound polarrity for the set of tweets analysed.\n",
    "All the news organizations had variation in their tweet polarity based on when the 100 tweets used for analysis is retrieved. \n",
    "CNN is slightly positive and NYtimes had a negative  average compound polarity."
   ]
  },
  {
   "cell_type": "code",
   "execution_count": 106,
   "metadata": {},
   "outputs": [
    {
     "name": "stdout",
     "output_type": "stream",
     "text": [
      "MerM2ONWQ6jGImQsKR8WNOPsV\n"
     ]
    }
   ],
   "source": [
    "# Dependencies to be imported.\n",
    "import tweepy\n",
    "import json\n",
    "import pandas as pd\n",
    "import numpy as np\n",
    "import seaborn as sns\n",
    "from pprint import pprint\n",
    "from datetime import datetime\n",
    "from vaderSentiment.vaderSentiment import SentimentIntensityAnalyzer\n",
    "analyzer=SentimentIntensityAnalyzer()\n",
    "from config import consumer_key, consumer_secret, access_token, access_token_secret\n",
    "\n",
    "#tweepy authentication\n",
    "auth = tweepy.OAuthHandler(consumer_key, consumer_secret)\n",
    "auth.set_access_token(access_token, access_token_secret)\n",
    "api = tweepy.API(auth,parser=tweepy.parsers.JSONParser())\n",
    "print(consumer_key)\n"
   ]
  },
  {
   "cell_type": "code",
   "execution_count": 4,
   "metadata": {},
   "outputs": [
    {
     "data": {
      "text/plain": [
       "['BBC', 'CBS', 'CNN', 'FOX', 'nytimes']"
      ]
     },
     "execution_count": 4,
     "metadata": {},
     "output_type": "execute_result"
    }
   ],
   "source": [
    "#Target user list\n",
    "target_list=[\"BBC\",\"CBS\",\"CNN\",\"FOX\",\"nytimes\"]\n",
    "target_list\n",
    "\n",
    "\n"
   ]
  },
  {
   "cell_type": "code",
   "execution_count": 5,
   "metadata": {},
   "outputs": [
    {
     "name": "stdout",
     "output_type": "stream",
     "text": [
      "BBC\n",
      "BBC\n",
      "CBS\n",
      "CBS\n",
      "CNN\n",
      "CNN\n",
      "FOX\n",
      "FOX\n",
      "nytimes\n",
      "nytimes\n"
     ]
    }
   ],
   "source": [
    "#target_user= \"@CNN\"\n",
    "#user_info = api.get_user(target_user)\n",
    "#pprint(user_info)\n",
    "#for user in user_info:\n",
    "#print(json.dumps(user_info,sort_keys=True,indent=4))\n",
    "for target in target_list:\n",
    "    print(target)\n",
    "    target_user = target\n",
    "    print(target_user)"
   ]
  },
  {
   "cell_type": "code",
   "execution_count": 6,
   "metadata": {},
   "outputs": [
    {
     "name": "stdout",
     "output_type": "stream",
     "text": [
      "BBC\n",
      "BBC\n",
      "1\n",
      "2\n",
      "25\n",
      "BBC\n",
      "Turns out you're biased in all sorts of ways you may not realise. https://t.co/yZ0ziOfX2L\n",
      "2018-06-26 08:00:16+00:00\n",
      "3\n",
      "50\n",
      "BBC\n",
      "💔🦍 Koko the gorilla sadly passed away this week, aged 46.\n",
      "\n",
      "This is the story of her life. https://t.co/rIRb7mHpJx\n",
      "2018-06-24 13:03:02+00:00\n",
      "4\n",
      "75\n",
      "BBC\n",
      "RT @bbcstories: Today marks 70 years since the arrival of Caribbean migrants on the Empire Windrush ship to the UK.\n",
      "\n",
      " Back in 2018, how has…\n",
      "2018-06-22 19:10:41+00:00\n",
      "5\n",
      "100\n",
      "BBC\n",
      "When a fire at a children's home in Guatemala killed dozens of teenage girls, it exposed a terrifying culture of ab… https://t.co/saKLWSu1NT\n",
      "2018-06-21 08:01:01+00:00\n",
      "CBS\n",
      "CBS\n",
      "1\n",
      "2\n",
      "125\n",
      "CBS\n",
      "RT @Aatamianphoto: Springsteen is on the #TonyAwards and I love it.\n",
      "2018-06-11 02:47:29+00:00\n",
      "3\n",
      "150\n",
      "CBS\n",
      "Nathan Lane saw his #AngelsinAmerica role as a challenge. How will you challenge yourself in 2018? #TonyAwards https://t.co/3WXd6AqgBi\n",
      "2018-06-11 01:08:24+00:00\n",
      "4\n",
      "175\n",
      "CBS\n",
      "These two know a thing or two about awards! Watch them light up the stage tomorrow at the #TonyAwards. ✨ https://t.co/KHVZp65oLS\n",
      "2018-06-09 21:00:02+00:00\n",
      "5\n",
      "200\n",
      "CBS\n",
      "The @NCISLA season finale is going to be a wild ride. Don't miss all of the action starting TONIGHT at 8/7c! https://t.co/PNtUuVf9VQ\n",
      "2018-05-20 17:00:01+00:00\n",
      "CNN\n",
      "CNN\n",
      "1\n",
      "2\n",
      "225\n",
      "CNN\n",
      "A fire raging in northern England has prompted the evacuation of dozens of homes and forced firefighters to work in… https://t.co/UUW42Sxcz3\n",
      "2018-06-27 11:29:26+00:00\n",
      "3\n",
      "250\n",
      "CNN\n",
      "Flyers were placed on vehicles outside a sheriff's office. One tested positive for traces of a deadly opioid.… https://t.co/LKKg0MG8Dh\n",
      "2018-06-27 06:30:13+00:00\n",
      "4\n",
      "275\n",
      "CNN\n",
      "Justice Kennedy reminds President Trump he is not above the law https://t.co/3MI1qNnZyk (via @CNNOpinion) https://t.co/Qw9pKw5fCm\n",
      "2018-06-27 01:45:07+00:00\n",
      "5\n",
      "300\n",
      "CNN\n",
      "Mitt Romney is running for Senate as a friend and foe of President Trump https://t.co/5dDiCsmJ6B https://t.co/I7Z2Bp5BHp\n",
      "2018-06-26 20:55:01+00:00\n",
      "FOX\n",
      "FOX\n",
      "1\n",
      "2\n",
      "325\n",
      "fox\n",
      "Isn’t the art of Jenny Holzer very timely? \n",
      "https://t.co/JUZtVu79rE https://t.co/5MsXeWX7B1\n",
      "2018-06-21 04:09:56+00:00\n",
      "3\n",
      "350\n",
      "fox\n",
      "@omosolatweets Thank you for sharing!\n",
      "2018-06-19 21:29:56+00:00\n",
      "4\n",
      "375\n",
      "fox\n",
      "@dotmariusz hahahaahha\n",
      "hahahaha\n",
      "ha\n",
      "\n",
      "still laughing.\n",
      "2018-06-12 09:41:33+00:00\n",
      "5\n",
      "400\n",
      "fox\n",
      "Doing some writing in this setting today. 🙌🏻 https://t.co/4WQQ0sjF2Z\n",
      "2018-06-08 08:57:01+00:00\n",
      "nytimes\n",
      "nytimes\n",
      "1\n",
      "2\n",
      "425\n",
      "nytimes\n",
      "What the Supreme Court's endorsement of the travel ban says about the extent of the president's power https://t.co/jsDBQuSBQD\n",
      "2018-06-27 11:11:07+00:00\n",
      "3\n",
      "450\n",
      "nytimes\n",
      "RT @nytimesarts: The American Library Association is dropping Laura Ingalls Wilder’s name from a prestigious children’s literature award be…\n",
      "2018-06-27 04:32:03+00:00\n",
      "4\n",
      "475\n",
      "nytimes\n",
      "Kevin Moore, a black firefighter in Oakland, has had the following happen to him while on duty in recent weeks: Res… https://t.co/nMHWUjWyZV\n",
      "2018-06-27 00:00:06+00:00\n",
      "5\n",
      "500\n",
      "nytimes\n",
      "RT @NYTMetro: The congressional primary on Tuesday is merely the first of two for New York voters, who will also go to the polls in Septemb…\n",
      "2018-06-26 19:38:03+00:00\n"
     ]
    }
   ],
   "source": [
    "#Retrieve tweets for a target_user and store tweets in a list. \n",
    "#target_user= \"@CNN\"\n",
    "#create empty list of recent tweets for each news org. \n",
    "tweet_acct=list()\n",
    "tweet_texts=list()\n",
    "tweet_time=list()\n",
    "cnt = 0 \n",
    "#Loop to the twitter feeds for the target organizations in target_list.\n",
    "for target in target_list:\n",
    "    print(target)\n",
    "    target_user = target\n",
    "    print(target_user)\n",
    "    #Use loop for 5 pages.\n",
    "    for i in range(1,6):\n",
    "        print(str(i))\n",
    "        all_tweets = api.user_timeline(target_user,page=i)\n",
    "        #parse thru each tweet in cnn_tweets\n",
    "        for tweet in all_tweets:\n",
    "            cnt+=1\n",
    "            #capture source acct.\n",
    "            tweet_acct.append(tweet[\"user\"][\"screen_name\"])\n",
    "            #pprint(tweet)\n",
    "            \n",
    "            #capture and store the tweet text\n",
    "            tweet_texts.append(tweet[\"text\"])\n",
    "            \n",
    "            #capture the date and convert to datetime format. \n",
    "            #raw_time format is Wed Jun 27 13:05:07 +0000 2018\n",
    "            #tweet_time format is 2018-06-27 13:05:07+00:00 \n",
    "            raw_time = tweet[\"created_at\"]\n",
    "            conv_time = datetime.strptime(raw_time,\"%a %b %d %H:%M:%S %z %Y\")\n",
    "            tweet_time.append(conv_time)\n",
    "            ##print some values of user, tweet text and conv_time. \n",
    "            if cnt % 25 == 0:\n",
    "                print(str(cnt))\n",
    "                print(tweet[\"user\"][\"screen_name\"])\n",
    "                print(tweet[\"text\"])\n",
    "                print(str(conv_time))\n",
    "        "
   ]
  },
  {
   "cell_type": "code",
   "execution_count": 7,
   "metadata": {},
   "outputs": [
    {
     "name": "stdout",
     "output_type": "stream",
     "text": [
      "500\n",
      "500\n",
      "500\n"
     ]
    }
   ],
   "source": [
    "print(len(tweet_texts))\n",
    "print(len(tweet_acct))\n",
    "print(len(tweet_time))"
   ]
  },
  {
   "cell_type": "code",
   "execution_count": 8,
   "metadata": {},
   "outputs": [],
   "source": [
    "#Run sentiment analyzer for each tweet for all target_texts\n",
    "allcompound=list()\n",
    "allpos=list()\n",
    "allneu=list()\n",
    "allneg=list()\n",
    "\n",
    "for target_text in tweet_texts:\n",
    "    results = analyzer.polarity_scores(target_text)\n",
    "    allcompound.append(results[\"compound\"])\n",
    "    allpos.append(results[\"pos\"])\n",
    "    allneu.append(results[\"neu\"])\n",
    "    allneg.append(results[\"neg\"])\n",
    "    \n",
    "\n"
   ]
  },
  {
   "cell_type": "code",
   "execution_count": 11,
   "metadata": {},
   "outputs": [
    {
     "name": "stdout",
     "output_type": "stream",
     "text": [
      "500 500 500 500\n"
     ]
    }
   ],
   "source": [
    "print(str(len(allcompound)),str(len(allpos)),str(len(allneu)),str(len(allneg)) )\n",
    "\n"
   ]
  },
  {
   "cell_type": "code",
   "execution_count": 64,
   "metadata": {},
   "outputs": [
    {
     "data": {
      "text/html": [
       "<div>\n",
       "<style scoped>\n",
       "    .dataframe tbody tr th:only-of-type {\n",
       "        vertical-align: middle;\n",
       "    }\n",
       "\n",
       "    .dataframe tbody tr th {\n",
       "        vertical-align: top;\n",
       "    }\n",
       "\n",
       "    .dataframe thead th {\n",
       "        text-align: right;\n",
       "    }\n",
       "</style>\n",
       "<table border=\"1\" class=\"dataframe\">\n",
       "  <thead>\n",
       "    <tr style=\"text-align: right;\">\n",
       "      <th></th>\n",
       "      <th>source_acct</th>\n",
       "      <th>tweet_date</th>\n",
       "      <th>tweet_text</th>\n",
       "      <th>vader_compound</th>\n",
       "      <th>vader_negative</th>\n",
       "      <th>vader_neutral</th>\n",
       "      <th>vader_positive</th>\n",
       "    </tr>\n",
       "  </thead>\n",
       "  <tbody>\n",
       "    <tr>\n",
       "      <th>400</th>\n",
       "      <td>nytimes</td>\n",
       "      <td>2018-06-27 15:49:03+00:00</td>\n",
       "      <td>Because Slack is down and you might have to ac...</td>\n",
       "      <td>0.0000</td>\n",
       "      <td>0.000</td>\n",
       "      <td>1.000</td>\n",
       "      <td>0.000</td>\n",
       "    </tr>\n",
       "    <tr>\n",
       "      <th>401</th>\n",
       "      <td>nytimes</td>\n",
       "      <td>2018-06-27 15:43:02+00:00</td>\n",
       "      <td>A police officer was charged with criminal hom...</td>\n",
       "      <td>-0.8271</td>\n",
       "      <td>0.401</td>\n",
       "      <td>0.599</td>\n",
       "      <td>0.000</td>\n",
       "    </tr>\n",
       "    <tr>\n",
       "      <th>402</th>\n",
       "      <td>nytimes</td>\n",
       "      <td>2018-06-27 15:33:04+00:00</td>\n",
       "      <td>RT @randyNYT: Notice the accent marks on Mexic...</td>\n",
       "      <td>0.0000</td>\n",
       "      <td>0.000</td>\n",
       "      <td>1.000</td>\n",
       "      <td>0.000</td>\n",
       "    </tr>\n",
       "    <tr>\n",
       "      <th>403</th>\n",
       "      <td>nytimes</td>\n",
       "      <td>2018-06-27 15:23:06+00:00</td>\n",
       "      <td>Germany probably advances in the World Cup wit...</td>\n",
       "      <td>-0.1406</td>\n",
       "      <td>0.126</td>\n",
       "      <td>0.771</td>\n",
       "      <td>0.103</td>\n",
       "    </tr>\n",
       "    <tr>\n",
       "      <th>404</th>\n",
       "      <td>nytimes</td>\n",
       "      <td>2018-06-27 15:13:03+00:00</td>\n",
       "      <td>RT @HannaIngber: Our politics editor, @patrick...</td>\n",
       "      <td>0.3182</td>\n",
       "      <td>0.000</td>\n",
       "      <td>0.892</td>\n",
       "      <td>0.108</td>\n",
       "    </tr>\n",
       "    <tr>\n",
       "      <th>405</th>\n",
       "      <td>nytimes</td>\n",
       "      <td>2018-06-27 15:03:06+00:00</td>\n",
       "      <td>Russia demonstrated that one response to field...</td>\n",
       "      <td>-0.4019</td>\n",
       "      <td>0.137</td>\n",
       "      <td>0.863</td>\n",
       "      <td>0.000</td>\n",
       "    </tr>\n",
       "    <tr>\n",
       "      <th>406</th>\n",
       "      <td>nytimes</td>\n",
       "      <td>2018-06-27 14:58:26+00:00</td>\n",
       "      <td>RT @mattfleg: Was just going back through some...</td>\n",
       "      <td>-0.2204</td>\n",
       "      <td>0.075</td>\n",
       "      <td>0.925</td>\n",
       "      <td>0.000</td>\n",
       "    </tr>\n",
       "    <tr>\n",
       "      <th>407</th>\n",
       "      <td>nytimes</td>\n",
       "      <td>2018-06-27 14:43:02+00:00</td>\n",
       "      <td>\"The violent act of a fan is sad,\" she wrote, ...</td>\n",
       "      <td>-0.7140</td>\n",
       "      <td>0.218</td>\n",
       "      <td>0.727</td>\n",
       "      <td>0.055</td>\n",
       "    </tr>\n",
       "    <tr>\n",
       "      <th>408</th>\n",
       "      <td>nytimes</td>\n",
       "      <td>2018-06-27 14:33:06+00:00</td>\n",
       "      <td>Mexico and Sweden are hoping to clinch advance...</td>\n",
       "      <td>0.4215</td>\n",
       "      <td>0.000</td>\n",
       "      <td>0.865</td>\n",
       "      <td>0.135</td>\n",
       "    </tr>\n",
       "    <tr>\n",
       "      <th>409</th>\n",
       "      <td>nytimes</td>\n",
       "      <td>2018-06-27 14:23:04+00:00</td>\n",
       "      <td>RT @mwolgelenter: “The enemies of a meat-based...</td>\n",
       "      <td>-0.4404</td>\n",
       "      <td>0.149</td>\n",
       "      <td>0.791</td>\n",
       "      <td>0.060</td>\n",
       "    </tr>\n",
       "  </tbody>\n",
       "</table>\n",
       "</div>"
      ],
      "text/plain": [
       "    source_acct                tweet_date  \\\n",
       "400     nytimes 2018-06-27 15:49:03+00:00   \n",
       "401     nytimes 2018-06-27 15:43:02+00:00   \n",
       "402     nytimes 2018-06-27 15:33:04+00:00   \n",
       "403     nytimes 2018-06-27 15:23:06+00:00   \n",
       "404     nytimes 2018-06-27 15:13:03+00:00   \n",
       "405     nytimes 2018-06-27 15:03:06+00:00   \n",
       "406     nytimes 2018-06-27 14:58:26+00:00   \n",
       "407     nytimes 2018-06-27 14:43:02+00:00   \n",
       "408     nytimes 2018-06-27 14:33:06+00:00   \n",
       "409     nytimes 2018-06-27 14:23:04+00:00   \n",
       "\n",
       "                                            tweet_text  vader_compound  \\\n",
       "400  Because Slack is down and you might have to ac...          0.0000   \n",
       "401  A police officer was charged with criminal hom...         -0.8271   \n",
       "402  RT @randyNYT: Notice the accent marks on Mexic...          0.0000   \n",
       "403  Germany probably advances in the World Cup wit...         -0.1406   \n",
       "404  RT @HannaIngber: Our politics editor, @patrick...          0.3182   \n",
       "405  Russia demonstrated that one response to field...         -0.4019   \n",
       "406  RT @mattfleg: Was just going back through some...         -0.2204   \n",
       "407  \"The violent act of a fan is sad,\" she wrote, ...         -0.7140   \n",
       "408  Mexico and Sweden are hoping to clinch advance...          0.4215   \n",
       "409  RT @mwolgelenter: “The enemies of a meat-based...         -0.4404   \n",
       "\n",
       "     vader_negative  vader_neutral  vader_positive  \n",
       "400           0.000          1.000           0.000  \n",
       "401           0.401          0.599           0.000  \n",
       "402           0.000          1.000           0.000  \n",
       "403           0.126          0.771           0.103  \n",
       "404           0.000          0.892           0.108  \n",
       "405           0.137          0.863           0.000  \n",
       "406           0.075          0.925           0.000  \n",
       "407           0.218          0.727           0.055  \n",
       "408           0.000          0.865           0.135  \n",
       "409           0.149          0.791           0.060  "
      ]
     },
     "execution_count": 64,
     "metadata": {},
     "output_type": "execute_result"
    }
   ],
   "source": [
    "#Create a dictionary with the lists created above. \n",
    "tweetdict=dict()\n",
    "tweetdict={\"source_acct\":tweet_acct,\"tweet_text\":tweet_texts,'tweet_date':tweet_time,\n",
    "           \"vader_compound\":allcompound,\"vader_positive\":allpos,\n",
    "           \"vader_neutral\":allneu,\"vader_negative\":allneg}\n",
    "#Create Dataframe from the dict\n",
    "tweet_df = pd.DataFrame(tweetdict)\n",
    "tweet_df.iloc[400:410]\n"
   ]
  },
  {
   "cell_type": "code",
   "execution_count": 18,
   "metadata": {},
   "outputs": [],
   "source": [
    "\n",
    "tweet_df.to_csv(\"Data/Tweetanalysis.csv\",index=False, header=True)"
   ]
  },
  {
   "cell_type": "code",
   "execution_count": 19,
   "metadata": {},
   "outputs": [
    {
     "data": {
      "text/html": [
       "<div>\n",
       "<style scoped>\n",
       "    .dataframe tbody tr th:only-of-type {\n",
       "        vertical-align: middle;\n",
       "    }\n",
       "\n",
       "    .dataframe tbody tr th {\n",
       "        vertical-align: top;\n",
       "    }\n",
       "\n",
       "    .dataframe thead th {\n",
       "        text-align: right;\n",
       "    }\n",
       "</style>\n",
       "<table border=\"1\" class=\"dataframe\">\n",
       "  <thead>\n",
       "    <tr style=\"text-align: right;\">\n",
       "      <th></th>\n",
       "      <th>source_acct</th>\n",
       "      <th>tweet_date</th>\n",
       "      <th>tweet_text</th>\n",
       "      <th>vader_compound</th>\n",
       "      <th>vader_negative</th>\n",
       "      <th>vader_neutral</th>\n",
       "      <th>vader_positive</th>\n",
       "    </tr>\n",
       "  </thead>\n",
       "  <tbody>\n",
       "    <tr>\n",
       "      <th>495</th>\n",
       "      <td>nytimes</td>\n",
       "      <td>2018-06-26 20:08:03+00:00</td>\n",
       "      <td>It was an afternoon of “God, fashion and polit...</td>\n",
       "      <td>0.2732</td>\n",
       "      <td>0.000</td>\n",
       "      <td>0.877</td>\n",
       "      <td>0.123</td>\n",
       "    </tr>\n",
       "    <tr>\n",
       "      <th>496</th>\n",
       "      <td>nytimes</td>\n",
       "      <td>2018-06-26 19:58:04+00:00</td>\n",
       "      <td>The arrest warrant for Rosa Parks shows that i...</td>\n",
       "      <td>-0.2263</td>\n",
       "      <td>0.100</td>\n",
       "      <td>0.837</td>\n",
       "      <td>0.063</td>\n",
       "    </tr>\n",
       "    <tr>\n",
       "      <th>497</th>\n",
       "      <td>nytimes</td>\n",
       "      <td>2018-06-26 19:57:04+00:00</td>\n",
       "      <td>Lionel Messi and Argentina took a dramatic and...</td>\n",
       "      <td>0.0000</td>\n",
       "      <td>0.000</td>\n",
       "      <td>1.000</td>\n",
       "      <td>0.000</td>\n",
       "    </tr>\n",
       "    <tr>\n",
       "      <th>498</th>\n",
       "      <td>nytimes</td>\n",
       "      <td>2018-06-26 19:48:08+00:00</td>\n",
       "      <td>Iceland’s Viking Thunder Clap is meant to conj...</td>\n",
       "      <td>-0.1531</td>\n",
       "      <td>0.092</td>\n",
       "      <td>0.845</td>\n",
       "      <td>0.063</td>\n",
       "    </tr>\n",
       "    <tr>\n",
       "      <th>499</th>\n",
       "      <td>nytimes</td>\n",
       "      <td>2018-06-26 19:38:03+00:00</td>\n",
       "      <td>RT @NYTMetro: The congressional primary on Tue...</td>\n",
       "      <td>0.0000</td>\n",
       "      <td>0.000</td>\n",
       "      <td>1.000</td>\n",
       "      <td>0.000</td>\n",
       "    </tr>\n",
       "  </tbody>\n",
       "</table>\n",
       "</div>"
      ],
      "text/plain": [
       "    source_acct                tweet_date  \\\n",
       "495     nytimes 2018-06-26 20:08:03+00:00   \n",
       "496     nytimes 2018-06-26 19:58:04+00:00   \n",
       "497     nytimes 2018-06-26 19:57:04+00:00   \n",
       "498     nytimes 2018-06-26 19:48:08+00:00   \n",
       "499     nytimes 2018-06-26 19:38:03+00:00   \n",
       "\n",
       "                                            tweet_text  vader_compound  \\\n",
       "495  It was an afternoon of “God, fashion and polit...          0.2732   \n",
       "496  The arrest warrant for Rosa Parks shows that i...         -0.2263   \n",
       "497  Lionel Messi and Argentina took a dramatic and...          0.0000   \n",
       "498  Iceland’s Viking Thunder Clap is meant to conj...         -0.1531   \n",
       "499  RT @NYTMetro: The congressional primary on Tue...          0.0000   \n",
       "\n",
       "     vader_negative  vader_neutral  vader_positive  \n",
       "495           0.000          0.877           0.123  \n",
       "496           0.100          0.837           0.063  \n",
       "497           0.000          1.000           0.000  \n",
       "498           0.092          0.845           0.063  \n",
       "499           0.000          1.000           0.000  "
      ]
     },
     "execution_count": 19,
     "metadata": {},
     "output_type": "execute_result"
    }
   ],
   "source": [
    "tweet_df.tail(5)"
   ]
  },
  {
   "cell_type": "code",
   "execution_count": 60,
   "metadata": {},
   "outputs": [
    {
     "name": "stdout",
     "output_type": "stream",
     "text": [
      "100 100 100 100 100\n"
     ]
    }
   ],
   "source": [
    "import matplotlib.pyplot as plt\n",
    "from matplotlib import style\n",
    "style.use('ggplot')\n",
    "\n",
    "#Retrieve the compound result from vader analysis for bbc.\n",
    "bbc_compound_list = tweet_df.loc[tweet_df[\"source_acct\"]==\"BBC\"][\"vader_compound\"].values\n",
    "cbs_compound_list = tweet_df.loc[tweet_df[\"source_acct\"]==\"CBS\"][\"vader_compound\"].values\n",
    "cnn_compound_list = tweet_df.loc[tweet_df[\"source_acct\"]==\"CNN\"][\"vader_compound\"].values\n",
    "fox_compound_list = tweet_df.loc[tweet_df[\"source_acct\"]==\"fox\"][\"vader_compound\"].values\n",
    "nytimes_compound_list = tweet_df.loc[tweet_df[\"source_acct\"]==\"nytimes\"][\"vader_compound\"].values\n",
    "                                \n",
    "#bbc_compound_list=bbc_compound.values\n",
    "print(str(len(bbc_compound_list)),str(len(cbs_compound_list)),str(len(cnn_compound_list)),str(len(fox_compound_list)),\n",
    "     str(len(nytimes_compound_list)))"
   ]
  },
  {
   "cell_type": "code",
   "execution_count": 82,
   "metadata": {},
   "outputs": [],
   "source": [
    "#Determine mean of compound sentiment for each news org. \n",
    "bbc_compound_avg = tweet_df.loc[tweet_df[\"source_acct\"]==\"BBC\"][\"vader_compound\"].mean()\n",
    "cbs_compound_avg = tweet_df.loc[tweet_df[\"source_acct\"]==\"CBS\"][\"vader_compound\"].mean()\n",
    "cnn_compound_avg = tweet_df.loc[tweet_df[\"source_acct\"]==\"CNN\"][\"vader_compound\"].mean()\n",
    "fox_compound_avg = tweet_df.loc[tweet_df[\"source_acct\"]==\"fox\"][\"vader_compound\"].mean()\n",
    "nytimes_compound_avg = tweet_df.loc[tweet_df[\"source_acct\"]==\"nytimes\"][\"vader_compound\"].mean()\n",
    "avglist=[bbc_compound_avg,cbs_compound_avg,cnn_compound_avg,fox_compound_avg,nytimes_compound_avg]"
   ]
  },
  {
   "cell_type": "code",
   "execution_count": 112,
   "metadata": {},
   "outputs": [
    {
     "data": {
      "image/png": "[encoded data removed]",
      "text/plain": [
       "<matplotlib.figure.Figure at 0x20a16e81ef0>"
      ]
     },
     "metadata": {},
     "output_type": "display_data"
    }
   ],
   "source": [
    "# Create plot\n",
    "x_vals = range(100,0,-1)\n",
    "#print(str(len(x_vals)))\n",
    "y_valbbc= bbc_compound_list\n",
    "y_valcbs= cbs_compound_list\n",
    "y_valcnn= cnn_compound_list\n",
    "y_valfox= fox_compound_list\n",
    "y_valnyt= nytimes_compound_list\n",
    "#plt.scatter(x_vals,y_vals, marker=\"o\", linewidth=0.5,alpha=0.8,color=\"skyblue\",label=True,edgecolor=\"black\")\n",
    "#plt.scatter(x_vals,y_vals, marker=\"o\", linewidth=0.5,alpha=0.8,color=\"skyblue\",label=True,edgecolor=\"green\")\n",
    "plt.scatter(x_vals,y_valbbc, marker=\"o\", linewidth=0.5,alpha=0.8,color=\"skyblue\",label=\"BBC\",edgecolor=\"black\",\n",
    "            s=100)\n",
    "plt.scatter(x_vals,y_valcbs, marker=\"o\", linewidth=0.5,alpha=0.8,color=\"green\",label=\"CBS\",edgecolor=\"black\",s=100)\n",
    "plt.scatter(x_vals,y_valcnn, marker=\"o\", linewidth=0.5,alpha=0.8,color=\"red\",label=\"CNN\",edgecolor=\"black\",s=100)\n",
    "plt.scatter(x_vals,y_valfox, marker=\"o\", linewidth=0.5,alpha=0.8,color=\"blue\",label=\"FOX\",edgecolor=\"black\",s=100)\n",
    "plt.scatter(x_vals,y_valnyt, marker=\"o\", linewidth=0.5,alpha=0.8,color=\"yellow\",label=\"New York Times\",edgecolor=\"black\",\n",
    "            s=100)\n",
    "\n",
    "## Incorporate the other graph properties\n",
    "now = datetime.now()\n",
    "now = now.strftime(\"%Y-%m-%d\")\n",
    "#plt.legend(loc='upper right',markerscale=0.7, scatterpoints=1,)\n",
    "#plt.tight_layout()\n",
    "#plt.figure(figsize=(4,3))\n",
    "plt.legend(bbox_to_anchor=(1.05, 1), loc=2, borderaxespad=0.)\n",
    "plt.title(f\"Sentiment Analysis of 100 Tweets ({now}) \")\n",
    "plt.xlim([100,0]) \n",
    "plt.ylim(-1,+1)\n",
    "plt.ylabel(\"Tweet Polarity\")\n",
    "plt.xlabel(\"Tweets Ago\")\n",
    "#save figure into the images folder.\n",
    "plt.savefig(\"Images/twitter_sentiment_scatter.png\",bbox_inches=\"tight\")\n",
    "\n",
    "plt.show()"
   ]
  },
  {
   "cell_type": "code",
   "execution_count": 111,
   "metadata": {},
   "outputs": [
    {
     "name": "stdout",
     "output_type": "stream",
     "text": [
      "['BBC', 'CBS', 'CNN', 'FOX', 'nytimes']\n",
      "[0.14658499999999994, 0.356899, 0.039703000000000016, 0.253324, -0.05858500000000001]\n"
     ]
    }
   ],
   "source": [
    "print(target_list)\n",
    "print(avglist)"
   ]
  },
  {
   "cell_type": "code",
   "execution_count": 95,
   "metadata": {},
   "outputs": [
    {
     "data": {
      "image/png": "[encoded data removed]",
      "text/plain": [
       "<matplotlib.figure.Figure at 0x20a186cff28>"
      ]
     },
     "metadata": {},
     "output_type": "display_data"
    }
   ],
   "source": [
    "plt.bar(target_list,avglist)\n",
    "plt.ylabel(\"Tweet Polarity (Avg of 100 tweets)\" )\n",
    "plt.title(f\"Overall sentiment analysis using twitter feeds ({now})\")\n",
    "#plt.title(f\"Sentiment Analysis of 100 Tweets ({now}) \")\n",
    "now = datetime.now()\n",
    "now = now.strftime(\"%Y-%m-%d\")\n",
    "plt.tight_layout()\n",
    "plt.savefig(\"Images/twitter_analysis_bar.png\")\n",
    "plt.show()"
   ]
  },
  {
   "cell_type": "code",
   "execution_count": null,
   "metadata": {},
   "outputs": [],
   "source": []
  },
  {
   "cell_type": "code",
   "execution_count": null,
   "metadata": {},
   "outputs": [],
   "source": []
  }
 ],
 "metadata": {
  "kernelspec": {
   "display_name": "Python 3",
   "language": "python",
   "name": "python3"
  },
  "language_info": {
   "codemirror_mode": {
    "name": "ipython",
    "version": 3
   },
   "file_extension": ".py",
   "mimetype": "text/x-python",
   "name": "python",
   "nbconvert_exporter": "python",
   "pygments_lexer": "ipython3",
   "version": "3.6.4"
  }
 },
 "nbformat": 4,
 "nbformat_minor": 2
}
