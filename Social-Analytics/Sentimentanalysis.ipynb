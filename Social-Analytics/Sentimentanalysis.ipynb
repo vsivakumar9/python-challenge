{
 "cells": [
  {
   "cell_type": "markdown",
   "metadata": {},
   "source": [
    "# Heading 1 Sentiment Analysis "
   ]
  },
  {
   "cell_type": "markdown",
   "metadata": {},
   "source": []
  },
  {
   "cell_type": "code",
   "execution_count": 20,
   "metadata": {},
   "outputs": [
    {
     "name": "stdout",
     "output_type": "stream",
     "text": [
      "MerM2ONWQ6jGImQsKR8WNOPsV\n"
     ]
    }
   ],
   "source": [
    "# Dependencies to be imported.\n",
    "import tweepy\n",
    "import json\n",
    "from pprint import pprint\n",
    "from vaderSentiment.vaderSentiment import SentimentIntensityAnalyzer\n",
    "analyzer=SentimentIntensityAnalyzer()\n",
    "from config import consumer_key, consumer_secret, access_token, access_token_secret\n",
    "\n",
    "#tweepy authentication\n",
    "auth = tweepy.OAuthHandler(consumer_key, consumer_secret)\n",
    "auth.set_access_token(access_token, access_token_secret)\n",
    "api = tweepy.API(auth,parser=tweepy.parsers.JSONParser())\n",
    "print(consumer_key)\n"
   ]
  },
  {
   "cell_type": "code",
   "execution_count": 11,
   "metadata": {},
   "outputs": [],
   "source": [
    "#Target user list\n",
    "target_list=[\"BBC\",\"CBS,\"\"CNN\",\"FOX\",\"nytimes\"]\n",
    "target_user= \"@CNN\"\n",
    "\n"
   ]
  },
  {
   "cell_type": "code",
   "execution_count": null,
   "metadata": {},
   "outputs": [],
   "source": [
    "user_info = api.get_user(target_user)\n",
    "#pprint(user_info)\n",
    "#for user in user_info:\n",
    "print(json.dumps(user_info,sort_keys=True,indent=4))"
   ]
  },
  {
   "cell_type": "code",
   "execution_count": 14,
   "metadata": {},
   "outputs": [
    {
     "name": "stdout",
     "output_type": "stream",
     "text": [
      "Americans born into poverty are more likely than ever before to stay that way under the Trump administration, accor… https://t.co/qbgYU9BidF\n",
      "Most Americans believe the Russian effort to influence the 2016 presidential election is a serious matter that shou… https://t.co/4aNmOmKQUL\n",
      "About 56% of US youth have their own social media accounts, according to a report by nonprofit organization Common… https://t.co/Ypt5HsH8ZJ\n",
      "A Japanese employee has been docked half a day's pay for repeatedly leaving his desk a few minutes early to eat lun… https://t.co/GWJmheSOUR\n",
      "How to be an ally to your LGBT friends, relatives and co-workers https://t.co/t2E8t6Vb5u https://t.co/T61eYkDhVU\n",
      "Host nation Russia scored five goals against Saudi Arabia and another three against Egypt at this year’s #WorldCup.… https://t.co/KLY1oR5sGn\n",
      "JUST IN: Supreme Court rules that the government generally needs a warrant if it wants to track an individual’s loc… https://t.co/0yfBc7q0SS\n",
      "Here's why you should probably skip out on an activated charcoal 'detox' https://t.co/G6A03m5dzq https://t.co/IInjfLv29Y\n",
      "First, it was a small bump under her left eye. Five days later, it appeared above the eye. Her upper lip was bulgin… https://t.co/pquLaOMzDU\n",
      "RT @CNNnewsroom: Republican Mayor of El Paso, Texas, reacts to Trump's tweet on 'phony' grief over family separations: \"It's not what we're…\n",
      "Sen. Marco Rubio says President Trump's \"zero-tolerance\" immigration policy is in line with what Trump campaigned f… https://t.co/MLfO8X10V5\n",
      "Tariffs on more than $3 billion worth of American exports to Europe took effect today https://t.co/utMNvvHrwI https://t.co/ji2rm84etm\n",
      "How President Trump killed the immigration bill with 1 tweet | Analysis by @CillizzaCNN https://t.co/ZD0k6qE1U8 https://t.co/MyS53A8E5u\n",
      "Americans born into poverty are more likely than ever before to stay that way under the Trump administration, accor… https://t.co/Jy9nkQT6S5\n",
      "More than a month apart after being separated at the border, this Guatemalan mother got her 7-year-old son back jus… https://t.co/Czmpi4ahoO\n",
      "President Trump endorses Rep. Martha Roby, an Alabama congresswoman who in 2016 rescinded her endorsement of the th… https://t.co/vv3lGCTx6o\n",
      "ABC will air a Conner family sitcom without star Roseanne Barr, the network has announced. \"The Conners\" is the wor… https://t.co/omDk8IRYbL\n",
      "President Trump says the GOP should \"stop wasting their time on Immigration\" until after the midterms… https://t.co/BjIggceDhQ\n",
      "How soybeans -- yes, soybeans -- could impact the midterm elections https://t.co/4AsGvxrQox https://t.co/U3k43MqWGW\n",
      "Every single person in charge of law and order in this Georgia town is a black woman https://t.co/Gx8V8u472h https://t.co/wVJ8a75u2W\n",
      "A Japanese employee has been docked half a day's pay for repeatedly leaving his desk a few minutes early to eat lun… https://t.co/t7lPcGylph\n",
      "NASA has a new plan to stop asteroids and help scientists detect near-Earth objects they haven't been able to find… https://t.co/yKuI8jmjgP\n",
      "There's nearly a Nixon 1974 level of public support for impeaching President Trump | Analysis by @zbyronwolf … https://t.co/i1rhHzAjw3\n",
      "5 things for Friday:\n",
      "\n",
      "- Immigration\n",
      "- Internet sales taxes\n",
      "- Europe's migrant crisis\n",
      "- Turpin family\n",
      "- Charles Krau… https://t.co/uMyvbYiZRa\n",
      "The US wants to leave this American in Syria with $4,210 and no passport https://t.co/Za4rWAAwQu https://t.co/1J7ZsnHHLB\n",
      "On Sunday, Saudi Arabia will end the world's only ban on women drivers. Here's what you need to know:… https://t.co/kSOnRwsT2z\n",
      "Distraught parents are searching for their children separated from them weeks ago, some as young as 9 months old. S… https://t.co/bS1Wi6Uaqt\n",
      "Not long after President Trump signed an executive order to stop separating children from parents illegally crossin… https://t.co/5GztxFJMTT\n",
      "More than 30 children became sick at a Florida summer camp about 100 miles southeast of Tampa https://t.co/DZSEhtf6Y2\n",
      "The Trump administration has slammed the UN report arguing the organization should instead focus on poverty in the… https://t.co/h5BvbFd5kg\n",
      "Americans born into poverty are more likely than ever before to stay that way under the Trump administration, accor… https://t.co/rGaK53c2w0\n",
      "Chinese lasers suspected to have been used to target US aerial operations in the Pacific, with 20 incidents recorde… https://t.co/e5Yzikb8L5\n",
      "Most Americans believe the Russian effort to influence the 2016 presidential election is a serious matter that shou… https://t.co/yReUZP6oiu\n",
      "About 56% of US youth have their own social media accounts, according to a report by nonprofit organization Common… https://t.co/k0zNIjlcUV\n",
      "America's poor becoming more destitute under Trump, UN report says https://t.co/y006zAaF2R https://t.co/EYDL1f0HnQ\n",
      "Here's how NASA plans to stop asteroids from hitting Earth: https://t.co/yjybZdA07r https://t.co/cGybrb6cVZ\n",
      "On Sunday, Saudi Arabia will end the world's only ban on women drivers. Here's what you need to know:… https://t.co/D18DHVJnVx\n",
      "\"7 minutes of hail in Northeast Fort Collins.\" Watch as hailstorms pound parts of Colorado in the US https://t.co/AQVgZGxFB7\n",
      "Melania, that jacket! | By CNN's Carol Costello via @CNNOpinion https://t.co/WnUxLcXYUz https://t.co/jXFuunRjh2\n",
      "\"It's like they're putting a knife in your chest and killing you.\"\n",
      "\n",
      "A Guatemalan immigrant reunited with her son ea… https://t.co/c46k2sbSJr\n",
      "\"I need some different activities away from football to help me switch off.\" Meet the Swiss goalkeeper whose hobbie… https://t.co/S0UWZy9vQG\n",
      "The US Navy's newest aircraft carrier is regarded as the world's most-advanced warship -- but for how much longer? https://t.co/YOuCvVIbVV\n",
      "I was not in a cage, but was scarred for life | By Ariel Dorfman via @CNNOpinion https://t.co/iWU9QgMAcx\n",
      "An extremist Indonesian cleric was found guilty of inciting terrorism and sentenced to death by a Jakarta court on… https://t.co/Ihh8uN1Vv9\n",
      "RT @CNNTonight: CNN Senior Political Commentator David Axelrod says the Trump administration \"created a human rights crisis on the border.\"…\n",
      "The family separation controversy is a “crisis entirely of the President’s own making,” says @DonLemon. It is a “po… https://t.co/41lH78uy8Q\n",
      "A Japanese employee has been docked half a day's pay for repeatedly leaving his desk a few minutes early to eat lun… https://t.co/simz0nUH7B\n",
      "Airbus: 'Catastrophic' Brexit would threaten our future in the UK https://t.co/lxCl3kT1sD https://t.co/8lIQWBgLTu\n",
      "\"These tragic deaths are a reminder that wars and poverty continue to drive people to take desperate journeys that… https://t.co/SnsJMlhTk3\n",
      "Koko, the gorilla who mastered sign language, died in her sleep at age 46, The Gorilla Foundation says. She was sai… https://t.co/Oc4lvCza2l\n",
      "As car companies ramp up their plans for electric vehicles, the supply of lithium has come into the spotlight… https://t.co/ezEbin632u\n",
      "ABC will air a Conner family sitcom without star Roseanne Barr, the network has announced. \"The Conners\" is the wor… https://t.co/GjoMfTH3Px\n",
      "A West Virginia couple says a hospital mixed up two newborn babies, after the mother showed off one baby to relativ… https://t.co/VcvKQYfoTw\n",
      "Over the course of two days, more than 200 people drowned after leaving Libya for Europe, according to a report fro… https://t.co/YLkxRiHulr\n",
      "Tiny house living may not be for everyone, but tiny house resorts have popped up all over the country, offering eve… https://t.co/XAicvGj9Ma\n",
      "Melania, that jacket! | By CNN's Carol Costello via @CNNOpinion https://t.co/qQiIW7u4zJ https://t.co/SevT7YD0u7\n",
      "83-year-old artist Christo has been creating conceptually challenging, and large-scale work since the late 1950s. N… https://t.co/jZgt2QlPSu\n",
      "New York facility tries to ease immigrant kids' anxiety while separated from parents https://t.co/t7xupApeWZ https://t.co/BdTf3VoFws\n",
      "This is how KitKats are made https://t.co/4EErNERWNW https://t.co/zt1wpnSPil\n",
      "\"I see mothers bury their sons. I want my mom to never feel that pain.\"\n",
      "\n",
      "Two years ago, Antwon Rose wrote those lin… https://t.co/gYzP2GMfc0\n",
      "\"Can you play it?\" Cindy Madrid asked.\n",
      "\n",
      "In the audio recording, children can be heard sobbing desperately after bei… https://t.co/7OlAX4WVBc\n",
      "Charles Krauthammer, the conservative intellectual whose columns and commentary shaped American politics for genera… https://t.co/fBrKEw6bsG\n",
      "Vulnerable GOP Rep. Mike Coffman calls for President Trump to fire top White House policy adviser Stephen Miller… https://t.co/TU91dxAgz8\n",
      "I was not in a cage, but was scarred for life | By Ariel Dorfman via @CNNOpinion https://t.co/ylnDfCnAb3\n",
      "How stress tests measure a bank's ability to react to an economic downturn, and why more banks are now passing them… https://t.co/pmqVWyjdNX\n",
      "As car companies ramp up their plans for electric vehicles, the supply of lithium has come into the spotlight… https://t.co/32l6HCBc2E\n",
      "Two senior Justice Department officials from Deputy Attorney General Rod Rosenstein's office were seen by CNN enter… https://t.co/sQrGQLOMlN\n",
      "\"The role of the first family is TO care -- about the country and the world -- including about immigrants who come… https://t.co/zskoN0lJeO\n",
      "RT @CNNTonight: The family separation controversy is a “crisis entirely of the President’s own making,” says @DonLemon. It is a “policy tha…\n",
      "Executives from the National Enquirer provided President Trump's attorney Michael Cohen the opportunity to review a… https://t.co/tsrPyDsME9\n",
      "RT @CuomoPrimeTime: “I can’t believe we aren’t better than this,\" says @ChrisCuomo. \n",
      "\n",
      "“Kids taken from their parents, scattered across the…\n",
      "SpaceX's massive Falcon Heavy lands a $130 million military launch contract https://t.co/9cKqDh735G https://t.co/Oi7kZO0WsP\n",
      "RT @CuomoPrimeTime: “You gotta give some kudos to the fact that... she did go down there. Maybe she should wear something different… but I…\n",
      "Sou Fujimoto, the visionary blending architecture with nature, eyes the future https://t.co/yIlPEoTLNI via @CNNStyle https://t.co/Fe1AkNRgF2\n",
      "A Chinese hotpot restaurant's all-you-can-eat deal goes very wrong as ravenous customers devour so much that the ve… https://t.co/BmYy4ZEBLk\n",
      "The depressing predictability of the immigration debate | Analysis by @CillizzaCNN https://t.co/lcfFPjmih5 https://t.co/7o0ixZ7pxJ\n",
      "RT @AC360: CNN’s @AndersonCooper: “Is your head spinning yet?”\n",
      "\n",
      "Anderson unpacks the confusion surrounding President Trump's executive orde…\n",
      "Undocumented migrant children allege grave abuse at detention centers ranging from assaults to drugging, a CNN inve… https://t.co/9v0azE3pg0\n",
      "Separated immigrant children move people's hearts, but will it move their votes? | Analysis by CNN's Harry Enten… https://t.co/MhK1zbYn0S\n",
      "The Trump administration says it's continuing its \"zero-tolerance\" border policy, but emails obtained by CNN sugges… https://t.co/X3v31zme0i\n"
     ]
    },
    {
     "name": "stdout",
     "output_type": "stream",
     "text": [
      "RT @CuomoPrimeTime: “Of course I never meant to insult any one with Down syndrome… I would never degrade a child\"\n",
      "\n",
      ".@CLewandowski_  says he…\n",
      "Two strains of the human herpes virus may play a role in Alzheimer's disease, researchers say… https://t.co/8e1tSvb4E3\n",
      "\"She's in despair, she's depressed, she's paralyzed with pain... she misses her daughter.”\n",
      "\n",
      "CNN's @RosaFlores repor… https://t.co/eUwnabbQ6E\n",
      "\"I didn't have time to be afraid. I had to get my son out of that car.\" When race car driver Mike Jones was involve… https://t.co/C8CIFpBm4x\n",
      "RT @AC360: .@KirstenPowers on Melania Trump’s jacket: \"She's officially the Marie Antoinette of this administration. It should just say 'le…\n",
      "\"Take Two\" offers a new take on the \"Castle\" formula | By CNN's Brian Lowry https://t.co/1yrdykc3MZ https://t.co/3vQo7Kj9So\n",
      "Koko, the gorilla who mastered sign language, died in her sleep at age 46, The Gorilla Foundation says. She was sai… https://t.co/bqrjqhadot\n",
      "RT @cnnbrk: The Phoenix Suns select Arizona center DeAndre Ayton as the No. 1 pick in the 2018 NBA Draft. Follow live updates. https://t.co…\n",
      "“We did not have that policy or practice. ... It’s not something I would have permitted.” There was no formal polic… https://t.co/WzU1BJmHcb\n",
      "JUST IN: ABC will air a Conner family sitcom without star Roseanne Barr, the network has announced. The “Roseanne”… https://t.co/5M1WvcPbcd\n",
      "Senators call on the National Science Foundation to investigate the foundation's grant-making process… https://t.co/nJPvmMQT9y\n",
      "RT @AC360: Democrat @NYGovCuomo: “This is either gross government incompetence unparalleled, or it is the most disgusting political display…\n",
      "The CEO of the charity serving many recently separated children made $1.5 million in 2016. The head of the Red Cros… https://t.co/4l5ZJeVEgA\n",
      "These are some of the summer solstice traditions observed around the world https://t.co/58bf7TPfF0 via @CNNTravel https://t.co/GkJsTJwvon\n",
      "RT @TheLeadCNN: Mixed messages, mass confusion, and continued uncertainty for the 2,300 undocumented children seized from their parents by…\n",
      "RT @OutFrontCNN: \"The President has to be...confronted about what he's doing. He has shown no empathy, at all, on this. The only reason he…\n",
      "Secretary of State Mike Pompeo and his Iranian counterpart spar online, with Pompeo tweeting his apparent support f… https://t.co/kJt9p99pC4\n",
      "RT @OutFrontCNN: \"She wasn't wearing it because she was cold.\" - @ErinBurnett on Melania Trump's \"I really don't care. Do U?\" jacket https:…\n",
      "Democratic Rep. Beto O'Rourke: \"There is a strong racist element\" to the Trump administration policy that has led t… https://t.co/xFlGTAoa4z\n",
      "RT @AC360: Its worth remembering that amidst the confusion and outright dishonesty coming out of this White House, there are 2300 kids now…\n",
      "0\n"
     ]
    }
   ],
   "source": [
    "#Retrieve tweets for a target_user and store tweets in a list. \n",
    "target_user= \"@CNN\"\n",
    "cnn_tweet_texts=[]\n",
    "#create list of recent tweets for each user\n",
    "\n",
    "\n",
    "#Use loop for 5 pages.\n",
    "for i in range(1,6):\n",
    "    cnn_tweets = api.user_timeline(target_user,page=i)\n",
    "    #parse thru each tweet in cnn_tweets\n",
    "    for tweet in cnn_tweets:\n",
    "        #pprint(tweet)\n",
    "        print(tweet[\"text\"])\n",
    "        cnn_tweet_texts.append(tweet[\"text\"])\n",
    "        #capture the date and convert to datetime format. \n",
    "        #capture source acct."
   ]
  },
  {
   "cell_type": "code",
   "execution_count": 15,
   "metadata": {},
   "outputs": [
    {
     "name": "stdout",
     "output_type": "stream",
     "text": [
      "100\n"
     ]
    }
   ],
   "source": [
    "print(len(cnn_tweet_texts))"
   ]
  },
  {
   "cell_type": "code",
   "execution_count": 23,
   "metadata": {},
   "outputs": [
    {
     "name": "stdout",
     "output_type": "stream",
     "text": [
      "[-0.5106, -0.0516, 0.0, -0.1027, 0.4767, 0.0, 0.5574, 0.0, 0.0, -0.4939, 0.0, 0.2263, -0.6705, -0.5106, 0.0, 0.5719, 0.0, -0.5994, 0.4019, 0.0, -0.1027, 0.128, 0.4019, -0.6249, -0.34, -0.5574, -0.5574, -0.296, -0.5106, -0.743, -0.5106, -0.2263, -0.0516, 0.0, -0.4767, -0.296, -0.5574, 0.0772, 0.0, -0.4404, 0.4019, -0.09, 0.0, -0.9081, -0.4767, 0.0, -0.1027, -0.3818, -0.9042, -0.5574, 0.0, 0.0, 0.0, -0.5994, 0.0, 0.0, 0.4215, 0.2023, 0.0, 0.0772, -0.4215, 0.5106, -0.3612, 0.0, -0.128, 0.0, 0.5267, 0.4939, 0.0, 0.4215, 0.4404, 0.0, 0.2846, 0.5267, -0.5256, -0.3818, -0.296, -0.9153, 0.0, 0.0, 0.6259, 0.0516, -0.7579, 0.0, 0.0, 0.0, -0.5574, -0.296, -0.296, 0.0, 0.0, -0.8777, 0.4215, 0.0, -0.5574, -0.296, 0.4019, -0.4416, -0.1779, -0.0772]\n"
     ]
    }
   ],
   "source": [
    "#Run sentiment analyzer for each tweet for a targer_user\n",
    "cnncompound=list()\n",
    "cnnpos=list()\n",
    "cnnneu=list()\n",
    "cnnneg=list()\n",
    "\n",
    "for target_text in cnn_tweet_texts:\n",
    "    results = analyzer.polarity_scores(target_text)\n",
    "    cnncompound.append(results[\"compound\"])\n",
    "    cnnpos.append(results[\"pos\"])\n",
    "    cnnneu.append(results[\"neu\"])\n",
    "    cnnneg.append(results[\"neg\"])\n",
    "    \n",
    "\n",
    "    "
   ]
  },
  {
   "cell_type": "code",
   "execution_count": 27,
   "metadata": {},
   "outputs": [
    {
     "name": "stdout",
     "output_type": "stream",
     "text": [
      "100 [-0.5106, -0.0516, 0.0, -0.1027, 0.4767, 0.0, 0.5574, 0.0, 0.0, -0.4939, 0.0, 0.2263, -0.6705, -0.5106, 0.0, 0.5719, 0.0, -0.5994, 0.4019, 0.0, -0.1027, 0.128, 0.4019, -0.6249, -0.34, -0.5574, -0.5574, -0.296, -0.5106, -0.743, -0.5106, -0.2263, -0.0516, 0.0, -0.4767, -0.296, -0.5574, 0.0772, 0.0, -0.4404, 0.4019, -0.09, 0.0, -0.9081, -0.4767, 0.0, -0.1027, -0.3818, -0.9042, -0.5574, 0.0, 0.0, 0.0, -0.5994, 0.0, 0.0, 0.4215, 0.2023, 0.0, 0.0772, -0.4215, 0.5106, -0.3612, 0.0, -0.128, 0.0, 0.5267, 0.4939, 0.0, 0.4215, 0.4404, 0.0, 0.2846, 0.5267, -0.5256, -0.3818, -0.296, -0.9153, 0.0, 0.0, 0.6259, 0.0516, -0.7579, 0.0, 0.0, 0.0, -0.5574, -0.296, -0.296, 0.0, 0.0, -0.8777, 0.4215, 0.0, -0.5574, -0.296, 0.4019, -0.4416, -0.1779, -0.0772]\n",
      " \n",
      "100 [0.0, 0.06, 0.0, 0.0, 0.193, 0.0, 0.159, 0.0, 0.0, 0.0, 0.0, 0.106, 0.0, 0.0, 0.0, 0.217, 0.0, 0.0, 0.184, 0.0, 0.0, 0.118, 0.153, 0.0, 0.0, 0.0, 0.0, 0.0, 0.0, 0.0, 0.0, 0.0, 0.06, 0.0, 0.0, 0.0, 0.0, 0.067, 0.0, 0.105, 0.124, 0.0, 0.0, 0.0, 0.087, 0.0, 0.0, 0.0, 0.0, 0.0, 0.0, 0.0, 0.0, 0.0, 0.0, 0.0, 0.202, 0.145, 0.0, 0.056, 0.098, 0.191, 0.081, 0.0, 0.095, 0.0, 0.167, 0.127, 0.0, 0.149, 0.132, 0.0, 0.085, 0.195, 0.0, 0.0, 0.0, 0.0, 0.0, 0.0, 0.221, 0.129, 0.0, 0.0, 0.0, 0.0, 0.0, 0.0, 0.0, 0.0, 0.0, 0.0, 0.118, 0.0, 0.0, 0.0, 0.13, 0.0, 0.136, 0.076]\n",
      " \n",
      "100 [0.852, 0.87, 1.0, 0.931, 0.807, 1.0, 0.841, 1.0, 1.0, 0.868, 1.0, 0.894, 0.743, 0.852, 1.0, 0.783, 1.0, 0.754, 0.816, 1.0, 0.931, 0.786, 0.847, 0.773, 0.805, 0.841, 0.841, 0.885, 0.829, 0.73, 0.852, 0.909, 0.87, 1.0, 0.78, 0.833, 0.841, 0.933, 1.0, 0.711, 0.876, 0.934, 1.0, 0.547, 0.736, 1.0, 0.931, 0.809, 0.551, 0.854, 1.0, 1.0, 1.0, 0.837, 1.0, 1.0, 0.798, 0.756, 1.0, 0.944, 0.691, 0.809, 0.724, 1.0, 0.788, 1.0, 0.833, 0.873, 1.0, 0.851, 0.868, 1.0, 0.915, 0.805, 0.834, 0.809, 0.885, 0.504, 1.0, 1.0, 0.779, 0.753, 0.651, 1.0, 1.0, 1.0, 0.854, 0.909, 0.901, 1.0, 1.0, 0.613, 0.882, 1.0, 0.787, 0.913, 0.87, 0.878, 0.7, 0.837]\n"
     ]
    }
   ],
   "source": [
    "print(str(len(cnncompound)),cnncompound)\n",
    "print(\" \")\n",
    "print(str(len(cnnpos)),cnnpos)\n",
    "print(\" \")\n",
    "print(str(len(cnnneu)),cnnneu)"
   ]
  },
  {
   "cell_type": "code",
   "execution_count": null,
   "metadata": {},
   "outputs": [],
   "source": []
  }
 ],
 "metadata": {
  "kernelspec": {
   "display_name": "Python 3",
   "language": "python",
   "name": "python3"
  },
  "language_info": {
   "codemirror_mode": {
    "name": "ipython",
    "version": 3
   },
   "file_extension": ".py",
   "mimetype": "text/x-python",
   "name": "python",
   "nbconvert_exporter": "python",
   "pygments_lexer": "ipython3",
   "version": "3.6.4"
  }
 },
 "nbformat": 4,
 "nbformat_minor": 2
}
