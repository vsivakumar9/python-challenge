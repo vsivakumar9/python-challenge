{
 "cells": [
  {
   "cell_type": "code",
   "execution_count": 1,
   "metadata": {
    "collapsed": true
   },
   "outputs": [],
   "source": [
    "import pandas as pd\n",
    "\n",
    "\n",
    "#csvpath = os.path.join(\"raw_data\",'budget_data_1.csv')\n",
    "#file = 'budget_data_1.csv'\n",
    "#totmonths=0\n",
    "    \n",
    "# set file path\n",
    "filepath = \"raw_data/budget_data_1.csv\"\n",
    "\n",
    "#read csv data file with the pandas lib\n",
    "budgetcsv_df = pd.read_csv(filepath)\n",
    "\n",
    "#print(budgetcsv_df.head())\n",
    "\n",
    "#print(str(len(budgetcsv_df)))\n",
    "\n",
    "#Number of months = length of the dataframe for a column.\n",
    "totmonths = len(budgetcsv_df[\"Date\"])\n",
    "\n",
    "#Calc sum of Revenue.\n",
    "sumrev = budgetcsv_df[\"Revenue\"].sum()\n",
    "\n",
    "#create another column with each of the Revenue rows shifted by 1.\n",
    "budgetcsv_df[\"Revshift\"] = budgetcsv_df[\"Revenue\"].shift(1)\n",
    "\n",
    "#change in rev is the diff between orig Revenue and shifted Revenue.\n",
    "budgetcsv_df[\"Revchange\"] = budgetcsv_df[\"Revenue\"] - budgetcsv_df[\"Revshift\"]\n",
    "#print(str(totmonths))\n",
    "#print(str(sumrev))\n",
    "#print(budgetcsv_df.head())\n",
    "#print(budgetcsv_df.tail())\n",
    "\n"
   ]
  },
  {
   "cell_type": "code",
   "execution_count": 2,
   "metadata": {
    "collapsed": true
   },
   "outputs": [],
   "source": [
    "avgRevchange = budgetcsv_df[\"Revchange\"].mean()\n",
    "maxRevchange = budgetcsv_df[\"Revchange\"].max()\n",
    "minRevchange = budgetcsv_df[\"Revchange\"].min()\n",
    "\n",
    "avgrevdisp = str(avgRevchange)\n",
    "maxrevdisp = str(maxRevchange)"
   ]
  },
  {
   "cell_type": "code",
   "execution_count": 5,
   "metadata": {},
   "outputs": [
    {
     "name": "stdout",
     "output_type": "stream",
     "text": [
      "      Date  Revenue  Revshift  Revchange\n",
      "40  Feb-16   883934 -953301.0  1837235.0\n",
      "      Date  Revenue  Revshift  Revchange\n",
      "22  Aug-14 -1172384  607363.0 -1779747.0\n",
      "Financial Analysis\n",
      "------------------------------\n",
      "Total months             : 41\n",
      "Total Revenue            : $18971412\n",
      "Average Revenue Change   : $-6758.975\n",
      "Greatest Increase in Revenue: 40    Feb-16\n",
      "Name: Date, dtype: object ($1837235.0)\n",
      "Greatest Decrease in Revenue: 22    Aug-14\n",
      "Name: Date, dtype: object ($-1779747.0)\n"
     ]
    }
   ],
   "source": [
    "maxRevloc = budgetcsv_df.loc[budgetcsv_df[\"Revchange\"] == maxRevchange]\n",
    "minRevloc = budgetcsv_df.loc[budgetcsv_df[\"Revchange\"] == minRevchange]\n",
    "#maxReviloc = budgetcsv_df.iloc[budgetcsv_df[\"Revchange\"] == maxRevchange]\n",
    "#minReviloc = budgetcsv_df.iloc[budgetcsv_df[\"Revchange\"] == minRevchange]\n",
    "print(str(maxRevloc))\n",
    "#print(str(maxReviloc))\n",
    "print(str(minRevloc))\n",
    "#print(str(minReviloc))\n",
    "\n",
    "#print(maxRevloc)\n",
    "#print(minRevloc)\n",
    "\n",
    "print(\"Financial Analysis\")\n",
    "print(\"-\"*30)\n",
    "print(\"Total months             : \"  + str(totmonths))\n",
    "print(\"Total Revenue            : $\" + str(sumrev))\n",
    "print(\"Average Revenue Change   : $\" + str(avgRevchange))\n",
    "print(f\"Greatest Increase in Revenue: \"+str(maxRevloc[\"Date\"])+\" ($\"+ str(maxRevchange) + \")\")\n",
    "print(f\"Greatest Decrease in Revenue: \"+str(minRevloc[\"Date\"])+\" ($\"+ str(minRevchange) + \")\")"
   ]
  },
  {
   "cell_type": "code",
   "execution_count": null,
   "metadata": {
    "collapsed": true
   },
   "outputs": [],
   "source": []
  }
 ],
 "metadata": {
  "kernelspec": {
   "display_name": "Python 3",
   "language": "python",
   "name": "python3"
  },
  "language_info": {
   "codemirror_mode": {
    "name": "ipython",
    "version": 3
   },
   "file_extension": ".py",
   "mimetype": "text/x-python",
   "name": "python",
   "nbconvert_exporter": "python",
   "pygments_lexer": "ipython3",
   "version": "3.6.3"
  }
 },
 "nbformat": 4,
 "nbformat_minor": 2
}
